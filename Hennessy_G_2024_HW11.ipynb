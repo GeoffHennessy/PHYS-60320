{
 "cells": [
  {
   "cell_type": "markdown",
   "metadata": {},
   "source": [
    "# PyObject:  Object-oriented programming HW 11"
   ]
  },
  {
   "cell_type": "markdown",
   "metadata": {},
   "source": [
    "## Exercise 1  (from Monday's class)"
   ]
  },
  {
   "cell_type": "markdown",
   "metadata": {},
   "source": [
    "1. Write a ``Particle`` class that can be used to represent a particle with a mass, a 3-d position, and a 3-d velocity.\n",
    "\n",
    "2. Write a method that can be used to compute the kinetic energy of the particle\n",
    "\n",
    "3. Write a method that takes another particle as an argument and finds the distance between the two particles\n",
    "\n",
    "4. Write a method that given a time interval ``dt`` will update the position of the particle to the new position based on the current position and velocity.\n",
    "\n",
    "5. Write a ``ChargedParticle`` class that inherits from the ``Particle`` class, but also has an attribute for the charge of the particle.\n"
   ]
  },
  {
   "cell_type": "code",
   "execution_count": 1,
   "metadata": {},
   "outputs": [],
   "source": [
    "import numpy as np\n",
    "\n",
    "class Particle(object):\n",
    "    def __init__(self,x,y,z,vx,vy,vz,m):\n",
    "        self.x = x \n",
    "        self.y = y\n",
    "        self.z = z\n",
    "        self.vx = vx\n",
    "        self.vy = vy\n",
    "        self.vz = vz\n",
    "        self.m = m\n",
    "\n",
    "    def KE(self):\n",
    "        return ((1/2) * self.m * (self.vx**2 + self.vy**2 + self.vz**2))\n",
    "\n",
    "    def distance(self, other):\n",
    "        return np.sqrt((self.x - other.x)**2 + abs(self.y-other.y)**2 + abs(self.z-other.z)**2)\n",
    "\n",
    "    def positionChange(self,dt):\n",
    "        return ((self.x + self.vx * dt), (self.y + self.vy * dt), (self.z + self.vz * dt))\n",
    "\n",
    "class chargedParticle(Particle):\n",
    "    def __init__(self,x,y,z,vx,vy,vz,m,q):\n",
    "        self.x = x \n",
    "        self.y = y\n",
    "        self.z = z\n",
    "        self.vx = vx\n",
    "        self.vy = vy\n",
    "        self.vz = vz\n",
    "        self.m = m\n",
    "        self.charge = q\n"
   ]
  },
  {
   "cell_type": "code",
   "execution_count": 2,
   "metadata": {},
   "outputs": [],
   "source": [
    "# write/copy code here"
   ]
  },
  {
   "cell_type": "markdown",
   "metadata": {},
   "source": [
    "## Exercise 2  (New)"
   ]
  },
  {
   "cell_type": "markdown",
   "metadata": {},
   "source": [
    "6. Write a method that can be used to see if a particle is in the same place (e.g., find_seperation < 0.25).  If there are two ChargedParticles in the same place make a \"simple\" (*not correct physics*) \"interaction\". (__have the code print \"interaction\"__).   \n",
    "\n",
    "    a. If the charges are opposite, make them \"combine\", set both velocities to zero and set their charge to zero, and print \"merge\".\n",
    "\n",
    "    b. Else, make the particles \"repel\", to do:\n",
    "    \n",
    "        multiply each \"self\" velocity and  by (-1 * (self.charge+other.charge) * (self.mass/other.mass))  \n",
    "    \n",
    "        multiply each \"other\" velocity by (-1 * (self.charge+other.charge) * (other.mass/self.mass)) \n",
    "    \n",
    "    e.g., reversing it's velocity, and print \"repel\". __(Again this is bad physics, but we are focusing on coding so play along.)__\n",
    "\n",
    "\n",
    "7. To test the above, write a code with two particles starting:\n",
    "\n",
    "        P1 at (x,y,z) = (-5,-5,-5) with (vx,vy,vz) = (1,1,1) and (charge = 0.5) \n",
    "\n",
    "        P2 at (x,y,z) = (5,5,5) with (vx,vy,vz) = (-1,-1,-1) and (charge = -0.5).  \n",
    "\n",
    "    Use your dt time interval to move the particles in 0.05 time steps for 300 steps, and print the current poition and velocity of each particle at each time step.  \n",
    "    \n",
    "\n",
    "8. To test the above, write a code with two particles starting: \n",
    "\n",
    "        P1 at (x,y,z) = (-5,-5,-5) with (vx,vy,vz) = (2,2,2) and (charge = 0.5) \n",
    "\n",
    "        P2 at (x,y,z) = (5,5,5) with (vx,vy,vz) = (-1,-1,-1) and (charge = 2.0).  \n",
    "\n",
    "    Use your dt time interval to move the particles in 0.05 time steps for 300 steps, and print the current poition and velocity of each particle at each time step.  \n"
   ]
  },
  {
   "cell_type": "code",
   "execution_count": 39,
   "metadata": {},
   "outputs": [],
   "source": [
    "# write new code here\n",
    "def collision(p1,p2):\n",
    "    if p1.distance(p2) < 0.25:  \n",
    "        if p1.charge * p2.charge < 0:                      #Check to see if charges are opposite by multiplying their signs\n",
    "            print('merge')\n",
    "            p1.vx, p1.vy, p1.vz, p2.cahrge = 0,0,0,0       #Setting p1 velocity and charge to zero\n",
    "            p2.vx, p2.vy, p2.vz, p2.charge = 0,0,0,0       #Setting p1 velocity and charge to zero\n",
    "            return  True\n",
    "        else:\n",
    "            p1.vx = p1.vx * (-1*(p1.charge + p2.charge) * (p1.m/p2.m))\n",
    "            p1.vy = p1.vy * (-1*(p1.charge + p2.charge) * (p1.m/p2.m))\n",
    "            p1.vz = p1.vz * (-1*(p1.charge + p2.charge) * (p1.m/p2.m))\n",
    "            \n",
    "            p2.vx = p2.vx * (-1*(p2.charge + p1.charge) * (p2.m/p1.m))\n",
    "            p2.vy = p2.vy * (-1*(p2.charge + p1.charge) * (p2.m/p1.m))\n",
    "            p2.vz = p2.vz * (-1*(p2.charge + p1.charge) * (p2.m/p1.m))\n",
    "            print(\"Partcles do not merge\")\n",
    "            print(\"Particle one's velocity is vx, vy ,vz = \" + str(p1.vx) + \", \" + str(p1.vy) + \", \" + str(p1.vz))\n",
    "            print(\"Particle two's velocity is vx, vy ,vz = \" + str(p2.vx) + \", \" + str(p2.vy) + \", \" + str(p2.vz))\n",
    "            return True\n",
    "    else:\n",
    "        return False\n",
    "\n",
    "\n"
   ]
  },
  {
   "cell_type": "code",
   "execution_count": 42,
   "metadata": {},
   "outputs": [
    {
     "name": "stdout",
     "output_type": "stream",
     "text": [
      "For the first test (charged particles of opposite charge) here are the results:\n",
      "merge\n",
      "For the second test (charged particles of same sign charge) here are the results:\n",
      "Partcles do not merge\n",
      "Particle one's velocity is vx, vy ,vz = -5.0, -5.0, -5.0\n",
      "Particle two's velocity is vx, vy ,vz = 2.5, 2.5, 2.5\n"
     ]
    }
   ],
   "source": [
    "#Here's our test\n",
    "timestep = 0.05\n",
    "p1 = chargedParticle(-5,-5,-5,2,2,2,1,0.5)\n",
    "p2 = chargedParticle(5,5,5,-1,-1,-1,1,-0.5)\n",
    "p3 = chargedParticle(-5,-5,-5,2,2,2,1,0.5)\n",
    "p4 = chargedParticle(5,5,5,-1,-1,-1,1,2.0)\n",
    "\n",
    "print(\"For the first test (charged particles of opposite charge) here are the results:\")\n",
    "for i in np.arange(0,300,timestep):\n",
    "    if collision(p1,p2) == False:\n",
    "        p1.x,p1.y,p1.z = p1.positionChange(timestep)\n",
    "        p2.x,p2.y,p2.z = p2.positionChange(timestep)\n",
    "    else:\n",
    "        break\n",
    "        \n",
    "print(\"For the second test (charged particles of same sign charge) here are the results:\")\n",
    "for i in np.arange(0,300,timestep):\n",
    "    if collision(p3,p4) == False:\n",
    "        p3.x,p3.y,p3.z = p3.positionChange(timestep)\n",
    "        p4.x,p4.y,p4.z = p4.positionChange(timestep)\n",
    "    else:\n",
    "        break"
   ]
  },
  {
   "cell_type": "markdown",
   "metadata": {},
   "source": [
    "# Remining Assignments and Due Dates!\n",
    "### Quiz #4 - TODAY\n",
    "### HW 11 - Due Friday 11/22, 5pm (this assignemnt)\n",
    "### HW 12 - Due Monday 12/2, 5pm (next week, Data fitting)\n",
    "### HW 13 - Due Wednesday 12/4, 11:59pm (after Thanksgiving, LaTeX)\n",
    "### Project - Due Monday 12/9, 11am (Code and LaTeX report)\n",
    "### Quiz #5 (\"Final\") - Monday 12/9, 11am (written)"
   ]
  },
  {
   "cell_type": "code",
   "execution_count": null,
   "metadata": {},
   "outputs": [],
   "source": []
  }
 ],
 "metadata": {
  "kernelspec": {
   "display_name": "Python 3 (ipykernel)",
   "language": "python",
   "name": "python3"
  },
  "language_info": {
   "codemirror_mode": {
    "name": "ipython",
    "version": 3
   },
   "file_extension": ".py",
   "mimetype": "text/x-python",
   "name": "python",
   "nbconvert_exporter": "python",
   "pygments_lexer": "ipython3",
   "version": "3.12.4"
  }
 },
 "nbformat": 4,
 "nbformat_minor": 4
}
